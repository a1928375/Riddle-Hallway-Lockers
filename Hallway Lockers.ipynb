{
 "cells": [
  {
   "cell_type": "markdown",
   "metadata": {},
   "source": [
    "# Iterative"
   ]
  },
  {
   "cell_type": "code",
   "execution_count": 1,
   "metadata": {},
   "outputs": [
    {
     "name": "stdout",
     "output_type": "stream",
     "text": [
      "10\n"
     ]
    }
   ],
   "source": [
    "def locker(n):\n",
    "    \n",
    "    d = {}\n",
    "    \n",
    "    for i in range(1,n+1):\n",
    "        \n",
    "        d[i] = \"closed\"\n",
    "    \n",
    "    l = d.keys()\n",
    "    \n",
    "    for j in l:\n",
    "        \n",
    "        for k in l:\n",
    "            \n",
    "            if j % k == 0:              #分出2 ele values(j & k)來處理  => j代表要運算的target  &  k代表除數\n",
    "                                        #因為if  target(j)能被 除數(k) 整除 => target的state要toggle\n",
    "                if d[j] == \"closed\":\n",
    "                    \n",
    "                    d[j] = \"open\"\n",
    "                \n",
    "                elif d[j] == \"open\":\n",
    "                    \n",
    "                    d[j] = \"closed\"\n",
    "    \n",
    "    result = list(d.values())\n",
    "    \n",
    "    return result.count(\"open\")\n",
    "\n",
    "\n",
    "print (locker(100))"
   ]
  },
  {
   "cell_type": "markdown",
   "metadata": {},
   "source": [
    "# With factor"
   ]
  },
  {
   "cell_type": "code",
   "execution_count": 2,
   "metadata": {},
   "outputs": [
    {
     "name": "stdout",
     "output_type": "stream",
     "text": [
      "10\n"
     ]
    }
   ],
   "source": [
    "def factor(n):\n",
    "    \n",
    "    count = 0\n",
    "    \n",
    "    for i in range(1, n+1):\n",
    "        \n",
    "        if n % i == 0:\n",
    "            \n",
    "            count = count + 1\n",
    "            \n",
    "    return count\n",
    "\n",
    "\n",
    "def locker(n):\n",
    "    \n",
    "    result = 0\n",
    "    \n",
    "    for i in range(1, n+1):\n",
    "        \n",
    "        if factor(i) % 2 != 0:               #數學法 => 有幾個factors，就要toggle幾次\n",
    "            \n",
    "            result = result + 1\n",
    "    \n",
    "    return result \n",
    "\n",
    "print (locker(100))"
   ]
  }
 ],
 "metadata": {
  "kernelspec": {
   "display_name": "Python 3",
   "language": "python",
   "name": "python3"
  },
  "language_info": {
   "codemirror_mode": {
    "name": "ipython",
    "version": 3
   },
   "file_extension": ".py",
   "mimetype": "text/x-python",
   "name": "python",
   "nbconvert_exporter": "python",
   "pygments_lexer": "ipython3",
   "version": "3.7.3"
  }
 },
 "nbformat": 4,
 "nbformat_minor": 2
}
